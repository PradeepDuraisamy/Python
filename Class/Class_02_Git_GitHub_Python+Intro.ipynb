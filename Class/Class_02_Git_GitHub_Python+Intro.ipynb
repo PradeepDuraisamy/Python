{
 "cells": [
  {
   "cell_type": "code",
   "execution_count": null,
   "metadata": {},
   "outputs": [],
   "source": [
    "➜  ~ pwd\n",
    "/Users/vigneshkarthick\n",
    "\n",
    "➜  ~ ls\n",
    "Abhishek     Desktop      Downloads    Movies       Pictures     __pycache__  seaborn-data\n",
    "Applications Documents    Library      Music        Public       anaconda3\n",
    "\n",
    "➜  ~ cd Desktop\n",
    "\n",
    "➜  Desktop mkdir My_Project\n",
    "\n",
    "➜  Desktop cd My_Project\n",
    "\n",
    "➜  My_Project ls -al\n",
    "total 0\n",
    "drwxr-xr-x   2 vigneshkarthick  staff    64 Feb 15 19:53 .\n",
    "drwx------+ 82 vigneshkarthick  staff  2624 Feb 15 19:53 ..\n",
    "\n",
    "➜  My_Project ls\n",
    "\n",
    "➜  My_Project ls -al\n",
    "total 0\n",
    "drwxr-xr-x   2 vigneshkarthick  staff    64 Feb 15 19:53 .\n",
    "drwx------+ 82 vigneshkarthick  staff  2624 Feb 15 19:53 ..\n",
    "\n",
    "➜  My_Project git init\n",
    "Initialized empty Git repository in /Users/vigneshkarthick/Desktop/My_Project/.git/\n",
    "\n",
    "➜  My_Project git:(master) git status\n",
    "On branch master\n",
    "\n",
    "No commits yet\n",
    "\n",
    "nothing to commit (create/copy files and use \"git add\" to track)\n",
    "\n",
    "➜  My_Project git:(master) ls -al\n",
    "total 0\n",
    "drwxr-xr-x   3 vigneshkarthick  staff    96 Feb 15 19:54 .\n",
    "drwx------+ 82 vigneshkarthick  staff  2624 Feb 15 19:53 ..\n",
    "drwxr-xr-x   9 vigneshkarthick  staff   288 Feb 15 19:58 .git\n",
    "\n",
    "➜  My_Project git:(master) git remote add origin https://github.com/DataScienceLearnbay/Python_Classes_Learnbay.git\n",
    "\n",
    "➜  My_Project git:(master) git remote -v\n",
    "origin  https://github.com/DataScienceLearnbay/Python_Classes_Learnbay.git (fetch)\n",
    "origin  https://github.com/DataScienceLearnbay/Python_Classes_Learnbay.git (push)\n",
    "\n",
    "➜  My_Project git:(master) ls\n",
    "\n",
    "➜  My_Project git:(master) touch f1.py\n",
    "\n",
    "➜  My_Project git:(master) ✗ ls\n",
    "f1.py\n",
    "\n",
    "➜  My_Project git:(master) ✗ echo 'Hello World! We are learning Git and Git Hub.' > f2.py\n",
    "\n",
    "➜  My_Project git:(master) ✗ ls\n",
    "f1.py f2.py\n",
    "\n",
    "➜  My_Project git:(master) ✗ cat f1.py\n",
    "\n",
    "➜  My_Project git:(master) ✗ cat f2.py\n",
    "Hello World! We are learning Git and Git Hub.\n",
    "\n",
    "➜  My_Project git:(master) ✗ echo 'Hello Guys! We will learn Python here.' >> f2.py\n",
    "\n",
    "➜  My_Project git:(master) ✗ cat f2.py\n",
    "Hello World! We are learning Git and Git Hub.\n",
    "Hello Guys! We will learn Python here.\n",
    "\n",
    "➜  My_Project git:(master) ✗ vim f3.html\n",
    "\n",
    "➜  My_Project git:(master) ✗ vim f3.html\n",
    "\n",
    "➜  My_Project git:(master) ✗ ls\n",
    "f1.py   f2.py   f3.html\n",
    "\n",
    "➜  My_Project git:(master) ✗ git status\n",
    "On branch master\n",
    "\n",
    "No commits yet\n",
    "\n",
    "Untracked files:\n",
    "  (use \"git add <file>...\" to include in what will be committed)\n",
    "        f1.py\n",
    "        f2.py\n",
    "        f3.html\n",
    "\n",
    "nothing added to commit but untracked files present (use \"git add\" to track)\n",
    "\n",
    "➜  My_Project git:(master) ✗ git add f3.html\n",
    "\n",
    "➜  My_Project git:(master) ✗ git status\n",
    "On branch master\n",
    "\n",
    "No commits yet\n",
    "\n",
    "Changes to be committed:\n",
    "  (use \"git rm --cached <file>...\" to unstage)\n",
    "        new file:   f3.html\n",
    "\n",
    "Untracked files:\n",
    "  (use \"git add <file>...\" to include in what will be committed)\n",
    "        f1.py\n",
    "        f2.py\n",
    "\n",
    "➜  My_Project git:(master) ✗ git add *.py\n",
    "\n",
    "➜  My_Project git:(master) ✗ git status\n",
    "On branch master\n",
    "\n",
    "No commits yet\n",
    "\n",
    "Changes to be committed:\n",
    "  (use \"git rm --cached <file>...\" to unstage)\n",
    "        new file:   f1.py\n",
    "        new file:   f2.py\n",
    "        new file:   f3.html\n",
    "\n",
    "➜  My_Project git:(master) ✗ vim f3.html\n",
    "\n",
    "➜  My_Project git:(master) ✗ git status\n",
    "On branch master\n",
    "\n",
    "No commits yet\n",
    "\n",
    "Changes to be committed:\n",
    "  (use \"git rm --cached <file>...\" to unstage)\n",
    "        new file:   f1.py\n",
    "        new file:   f2.py\n",
    "        new file:   f3.html\n",
    "\n",
    "Changes not staged for commit:\n",
    "  (use \"git add <file>...\" to update what will be committed)\n",
    "  (use \"git restore <file>...\" to discard changes in working directory)\n",
    "        modified:   f3.html\n",
    "\n",
    "➜  My_Project git:(master) ✗ git add f3.html\n",
    "\n",
    "➜  My_Project git:(master) ✗ git status\n",
    "On branch master\n",
    "\n",
    "No commits yet\n",
    "\n",
    "Changes to be committed:\n",
    "  (use \"git rm --cached <file>...\" to unstage)\n",
    "        new file:   f1.py\n",
    "        new file:   f2.py\n",
    "        new file:   f3.html\n",
    "\n",
    "\n",
    "➜  My_Project git:(master) ✗ cat f3.html\n",
    "a = 10\n",
    "b = 20\n",
    "c = a+b\n",
    "print(c)\n",
    "\n",
    "➜  My_Project git:(master) ✗ git add *.py\n",
    "\n",
    "➜  My_Project git:(master) ✗ git status\n",
    "On branch master\n",
    "\n",
    "No commits yet\n",
    "\n",
    "Changes to be committed:\n",
    "  (use \"git rm --cached <file>...\" to unstage)\n",
    "        new file:   f1.py\n",
    "        new file:   f2.py\n",
    "        new file:   f3.html\n",
    "\n",
    "➜  My_Project git:(master) ✗ vim f3.html\n",
    "\n",
    "➜  My_Project git:(master) ✗ git status\n",
    "On branch master\n",
    "\n",
    "➜  My_Project git:(master) ✗ git commit -m 'We are lerning git!'\n",
    "[master (root-commit) 60a66e5] We are lerning git!\n",
    " 3 files changed, 7 insertions(+)\n",
    " create mode 100644 f1.py\n",
    " create mode 100644 f2.py\n",
    " create mode 100644 f3.html\n",
    "\n",
    "➜  My_Project git:(master) git status\n",
    "On branch master\n",
    "nothing to commit, working tree clean\n",
    "\n",
    "➜  My_Project git:(master) git branch -m master main\n",
    "\n",
    "➜  My_Project git:(main) ls\n",
    "f1.py   f2.py   f3.html\n",
    "\n",
    "➜  My_Project git:(main) git fetch\n",
    "warning: no common commits\n",
    "remote: Enumerating objects: 4, done.\n",
    "remote: Counting objects: 100% (4/4), done.\n",
    "remote: Compressing objects: 100% (3/3), done.\n",
    "remote: Total 4 (delta 0), reused 0 (delta 0), pack-reused 0\n",
    "Unpacking objects: 100% (4/4), 1.59 KiB | 541.00 KiB/s, done.\n",
    "From https://github.com/DataScienceLearnbay/Python_Classes_Learnbay\n",
    " * [new branch]      main       -> origin/main\n",
    "\n",
    "➜  My_Project git:(main) git pull origin main --allow-unrelated-histories\n",
    "warning: Pulling without specifying how to reconcile divergent branches is\n",
    "discouraged. You can squelch this message by running one of the following\n",
    "commands sometime before your next pull:\n",
    "\n",
    "  git config pull.rebase false  # merge (the default strategy)\n",
    "  git config pull.rebase true   # rebase\n",
    "  git config pull.ff only       # fast-forward only\n",
    "\n",
    "You can replace \"git config\" with \"git config --global\" to set a default\n",
    "preference for all repositories. You can also pass --rebase, --no-rebase,\n",
    "or --ff-only on the command line to override the configured default per\n",
    "invocation.\n",
    "\n",
    "From https://github.com/DataScienceLearnbay/Python_Classes_Learnbay\n",
    " * branch            main       -> FETCH_HEAD\n",
    "Merge made by the 'recursive' strategy.\n",
    " .gitignore | 129 +++++++++++++++++++++++++++++++++++++++++++++++++++++++++++++++++++++++++++++++++++++++++++++++++++++++++++++++++++++\n",
    " README.md  |   1 +\n",
    " 2 files changed, 130 insertions(+)\n",
    " create mode 100644 .gitignore\n",
    " create mode 100644 README.md\n",
    "\n",
    "➜  My_Project git:(main) ls -al\n",
    "total 32\n",
    "drwxr-xr-x   8 vigneshkarthick  staff   256 Feb 15 20:50 .\n",
    "drwx------+ 82 vigneshkarthick  staff  2624 Feb 15 19:53 ..\n",
    "drwxr-xr-x  14 vigneshkarthick  staff   448 Feb 15 20:50 .git\n",
    "-rw-r--r--   1 vigneshkarthick  staff  1799 Feb 15 20:50 .gitignore\n",
    "-rw-r--r--   1 vigneshkarthick  staff    25 Feb 15 20:50 README.md\n",
    "-rw-r--r--   1 vigneshkarthick  staff     0 Feb 15 20:17 f1.py\n",
    "-rw-r--r--   1 vigneshkarthick  staff    85 Feb 15 20:20 f2.py\n",
    "-rw-r--r--@  1 vigneshkarthick  staff    32 Feb 15 20:36 f3.html\n",
    "\n",
    "➜  My_Project git:(main) git status\n",
    "On branch main\n",
    "nothing to commit, working tree clean\n",
    "\n",
    "➜  My_Project git:(main) git push -f origin main\n",
    "Username for 'https://github.com': datascience.learnbay@gmail.com\n",
    "Password for 'https://datascience.learnbay@gmail.com@github.com':\n",
    "Enumerating objects: 8, done.\n",
    "Counting objects: 100% (8/8), done.\n",
    "Delta compression using up to 4 threads\n",
    "Compressing objects: 100% (5/5), done.\n",
    "Writing objects: 100% (7/7), 722 bytes | 180.00 KiB/s, done.\n",
    "Total 7 (delta 1), reused 0 (delta 0), pack-reused 0\n",
    "remote: Resolving deltas: 100% (1/1), done.\n",
    "To https://github.com/DataScienceLearnbay/Python_Classes_Learnbay.git\n",
    "   2f5f6eb..83fd2ff  main -> main\n",
    "\n",
    "➜  My_Project git:(main) ls\n",
    "README.md f1.py     f2.py     f3.html\n",
    "➜  My_Project git:(main) rm f1.py f2.py f3.html README.md\n",
    "➜  My_Project git:(main) ✗ ls\n",
    "➜  My_Project git:(main) ✗ ls -al\n",
    "total 8\n",
    "drwxr-xr-x   4 vigneshkarthick  staff   128 Feb 15 21:16 .\n",
    "drwx------+ 82 vigneshkarthick  staff  2624 Feb 15 19:53 ..\n",
    "drwxr-xr-x  14 vigneshkarthick  staff   448 Feb 15 20:51 .git\n",
    "-rw-r--r--   1 vigneshkarthick  staff  1799 Feb 15 20:50 .gitignore\n",
    "➜  My_Project git:(main) ✗ rm .gitignore\n",
    "➜  My_Project git:(main) ✗ ls -al\n",
    "total 0\n",
    "drwxr-xr-x   3 vigneshkarthick  staff    96 Feb 15 21:16 .\n",
    "drwx------+ 82 vigneshkarthick  staff  2624 Feb 15 19:53 ..\n",
    "drwxr-xr-x  14 vigneshkarthick  staff   448 Feb 15 20:51 .git\n",
    "➜  My_Project git:(main) ✗ rm -rf .git\n",
    "➜  My_Project git remote -v\n",
    "fatal: not a git repository (or any of the parent directories): .git\n",
    "        \n",
    "➜  My_Project git:(master) git remote add origin https://github.com/DataScienceLearnbay/Python_Classes_Learnbay.git\n",
    "➜  My_Project git:(master) git remote -v\n",
    "origin  https://github.com/DataScienceLearnbay/Python_Classes_Learnbay.git (fetch)\n",
    "origin  https://github.com/DataScienceLearnbay/Python_Classes_Learnbay.git (push)\n",
    "➜  My_Project git:(master) git remote remove origin\n",
    "➜  My_Project git:(master) git remote -v"
   ]
  },
  {
   "cell_type": "code",
   "execution_count": null,
   "metadata": {},
   "outputs": [],
   "source": [
    "# Python Introduction"
   ]
  },
  {
   "cell_type": "code",
   "execution_count": null,
   "metadata": {},
   "outputs": [],
   "source": []
  },
  {
   "cell_type": "code",
   "execution_count": null,
   "metadata": {},
   "outputs": [],
   "source": []
  },
  {
   "cell_type": "code",
   "execution_count": null,
   "metadata": {},
   "outputs": [],
   "source": []
  },
  {
   "cell_type": "code",
   "execution_count": null,
   "metadata": {},
   "outputs": [],
   "source": []
  },
  {
   "cell_type": "code",
   "execution_count": null,
   "metadata": {},
   "outputs": [],
   "source": []
  },
  {
   "cell_type": "code",
   "execution_count": null,
   "metadata": {},
   "outputs": [],
   "source": []
  },
  {
   "cell_type": "code",
   "execution_count": null,
   "metadata": {},
   "outputs": [],
   "source": []
  },
  {
   "cell_type": "code",
   "execution_count": null,
   "metadata": {},
   "outputs": [],
   "source": []
  },
  {
   "cell_type": "code",
   "execution_count": null,
   "metadata": {},
   "outputs": [],
   "source": []
  },
  {
   "cell_type": "code",
   "execution_count": null,
   "metadata": {},
   "outputs": [],
   "source": []
  },
  {
   "cell_type": "code",
   "execution_count": null,
   "metadata": {},
   "outputs": [],
   "source": []
  },
  {
   "cell_type": "code",
   "execution_count": null,
   "metadata": {},
   "outputs": [],
   "source": []
  },
  {
   "cell_type": "code",
   "execution_count": null,
   "metadata": {},
   "outputs": [],
   "source": []
  },
  {
   "cell_type": "code",
   "execution_count": null,
   "metadata": {},
   "outputs": [],
   "source": []
  },
  {
   "cell_type": "code",
   "execution_count": null,
   "metadata": {},
   "outputs": [],
   "source": []
  },
  {
   "cell_type": "code",
   "execution_count": null,
   "metadata": {},
   "outputs": [],
   "source": []
  },
  {
   "cell_type": "code",
   "execution_count": null,
   "metadata": {},
   "outputs": [],
   "source": []
  },
  {
   "cell_type": "code",
   "execution_count": null,
   "metadata": {},
   "outputs": [],
   "source": []
  },
  {
   "cell_type": "code",
   "execution_count": null,
   "metadata": {},
   "outputs": [],
   "source": []
  },
  {
   "cell_type": "code",
   "execution_count": null,
   "metadata": {},
   "outputs": [],
   "source": []
  },
  {
   "cell_type": "code",
   "execution_count": null,
   "metadata": {},
   "outputs": [],
   "source": []
  },
  {
   "cell_type": "code",
   "execution_count": null,
   "metadata": {},
   "outputs": [],
   "source": []
  },
  {
   "cell_type": "code",
   "execution_count": null,
   "metadata": {},
   "outputs": [],
   "source": []
  },
  {
   "cell_type": "code",
   "execution_count": null,
   "metadata": {},
   "outputs": [],
   "source": []
  },
  {
   "cell_type": "code",
   "execution_count": null,
   "metadata": {},
   "outputs": [],
   "source": []
  },
  {
   "cell_type": "code",
   "execution_count": null,
   "metadata": {},
   "outputs": [],
   "source": []
  },
  {
   "cell_type": "code",
   "execution_count": null,
   "metadata": {},
   "outputs": [],
   "source": []
  },
  {
   "cell_type": "code",
   "execution_count": null,
   "metadata": {},
   "outputs": [],
   "source": []
  },
  {
   "cell_type": "code",
   "execution_count": null,
   "metadata": {},
   "outputs": [],
   "source": []
  },
  {
   "cell_type": "code",
   "execution_count": null,
   "metadata": {},
   "outputs": [],
   "source": []
  },
  {
   "cell_type": "code",
   "execution_count": null,
   "metadata": {},
   "outputs": [],
   "source": []
  },
  {
   "cell_type": "code",
   "execution_count": null,
   "metadata": {},
   "outputs": [],
   "source": []
  },
  {
   "cell_type": "code",
   "execution_count": null,
   "metadata": {},
   "outputs": [],
   "source": []
  },
  {
   "cell_type": "code",
   "execution_count": null,
   "metadata": {},
   "outputs": [],
   "source": []
  },
  {
   "cell_type": "code",
   "execution_count": null,
   "metadata": {},
   "outputs": [],
   "source": []
  },
  {
   "cell_type": "code",
   "execution_count": null,
   "metadata": {},
   "outputs": [],
   "source": []
  },
  {
   "cell_type": "code",
   "execution_count": null,
   "metadata": {},
   "outputs": [],
   "source": []
  },
  {
   "cell_type": "code",
   "execution_count": null,
   "metadata": {},
   "outputs": [],
   "source": []
  },
  {
   "cell_type": "code",
   "execution_count": null,
   "metadata": {},
   "outputs": [],
   "source": []
  },
  {
   "cell_type": "code",
   "execution_count": null,
   "metadata": {},
   "outputs": [],
   "source": []
  },
  {
   "cell_type": "code",
   "execution_count": null,
   "metadata": {},
   "outputs": [],
   "source": []
  },
  {
   "cell_type": "code",
   "execution_count": null,
   "metadata": {},
   "outputs": [],
   "source": []
  },
  {
   "cell_type": "code",
   "execution_count": null,
   "metadata": {},
   "outputs": [],
   "source": []
  },
  {
   "cell_type": "code",
   "execution_count": null,
   "metadata": {},
   "outputs": [],
   "source": []
  },
  {
   "cell_type": "code",
   "execution_count": null,
   "metadata": {},
   "outputs": [],
   "source": []
  },
  {
   "cell_type": "code",
   "execution_count": null,
   "metadata": {},
   "outputs": [],
   "source": []
  },
  {
   "cell_type": "code",
   "execution_count": null,
   "metadata": {},
   "outputs": [],
   "source": []
  },
  {
   "cell_type": "code",
   "execution_count": null,
   "metadata": {},
   "outputs": [],
   "source": []
  },
  {
   "cell_type": "code",
   "execution_count": null,
   "metadata": {},
   "outputs": [],
   "source": []
  },
  {
   "cell_type": "code",
   "execution_count": null,
   "metadata": {},
   "outputs": [],
   "source": []
  },
  {
   "cell_type": "code",
   "execution_count": null,
   "metadata": {},
   "outputs": [],
   "source": []
  },
  {
   "cell_type": "code",
   "execution_count": null,
   "metadata": {},
   "outputs": [],
   "source": []
  },
  {
   "cell_type": "code",
   "execution_count": null,
   "metadata": {},
   "outputs": [],
   "source": []
  },
  {
   "cell_type": "code",
   "execution_count": null,
   "metadata": {},
   "outputs": [],
   "source": []
  },
  {
   "cell_type": "code",
   "execution_count": null,
   "metadata": {},
   "outputs": [],
   "source": []
  },
  {
   "cell_type": "code",
   "execution_count": null,
   "metadata": {},
   "outputs": [],
   "source": []
  },
  {
   "cell_type": "code",
   "execution_count": null,
   "metadata": {},
   "outputs": [],
   "source": []
  },
  {
   "cell_type": "code",
   "execution_count": null,
   "metadata": {},
   "outputs": [],
   "source": []
  },
  {
   "cell_type": "code",
   "execution_count": null,
   "metadata": {},
   "outputs": [],
   "source": []
  },
  {
   "cell_type": "code",
   "execution_count": null,
   "metadata": {},
   "outputs": [],
   "source": []
  },
  {
   "cell_type": "code",
   "execution_count": null,
   "metadata": {},
   "outputs": [],
   "source": []
  },
  {
   "cell_type": "code",
   "execution_count": null,
   "metadata": {},
   "outputs": [],
   "source": []
  },
  {
   "cell_type": "code",
   "execution_count": null,
   "metadata": {},
   "outputs": [],
   "source": []
  },
  {
   "cell_type": "code",
   "execution_count": null,
   "metadata": {},
   "outputs": [],
   "source": []
  },
  {
   "cell_type": "code",
   "execution_count": null,
   "metadata": {},
   "outputs": [],
   "source": []
  },
  {
   "cell_type": "code",
   "execution_count": null,
   "metadata": {},
   "outputs": [],
   "source": []
  },
  {
   "cell_type": "code",
   "execution_count": null,
   "metadata": {},
   "outputs": [],
   "source": []
  },
  {
   "cell_type": "code",
   "execution_count": null,
   "metadata": {},
   "outputs": [],
   "source": []
  },
  {
   "cell_type": "code",
   "execution_count": null,
   "metadata": {},
   "outputs": [],
   "source": []
  },
  {
   "cell_type": "code",
   "execution_count": null,
   "metadata": {},
   "outputs": [],
   "source": []
  },
  {
   "cell_type": "code",
   "execution_count": null,
   "metadata": {},
   "outputs": [],
   "source": []
  },
  {
   "cell_type": "code",
   "execution_count": null,
   "metadata": {},
   "outputs": [],
   "source": []
  },
  {
   "cell_type": "code",
   "execution_count": null,
   "metadata": {},
   "outputs": [],
   "source": []
  },
  {
   "cell_type": "code",
   "execution_count": null,
   "metadata": {},
   "outputs": [],
   "source": []
  },
  {
   "cell_type": "code",
   "execution_count": null,
   "metadata": {},
   "outputs": [],
   "source": []
  },
  {
   "cell_type": "code",
   "execution_count": null,
   "metadata": {},
   "outputs": [],
   "source": []
  },
  {
   "cell_type": "code",
   "execution_count": null,
   "metadata": {},
   "outputs": [],
   "source": []
  },
  {
   "cell_type": "code",
   "execution_count": null,
   "metadata": {},
   "outputs": [],
   "source": []
  },
  {
   "cell_type": "code",
   "execution_count": null,
   "metadata": {},
   "outputs": [],
   "source": []
  },
  {
   "cell_type": "code",
   "execution_count": null,
   "metadata": {},
   "outputs": [],
   "source": []
  },
  {
   "cell_type": "code",
   "execution_count": null,
   "metadata": {},
   "outputs": [],
   "source": []
  },
  {
   "cell_type": "code",
   "execution_count": null,
   "metadata": {},
   "outputs": [],
   "source": []
  },
  {
   "cell_type": "code",
   "execution_count": null,
   "metadata": {},
   "outputs": [],
   "source": []
  },
  {
   "cell_type": "code",
   "execution_count": null,
   "metadata": {},
   "outputs": [],
   "source": []
  },
  {
   "cell_type": "code",
   "execution_count": null,
   "metadata": {},
   "outputs": [],
   "source": []
  },
  {
   "cell_type": "code",
   "execution_count": null,
   "metadata": {},
   "outputs": [],
   "source": []
  },
  {
   "cell_type": "code",
   "execution_count": null,
   "metadata": {},
   "outputs": [],
   "source": []
  }
 ],
 "metadata": {
  "kernelspec": {
   "display_name": "Python 3",
   "language": "python",
   "name": "python3"
  },
  "language_info": {
   "codemirror_mode": {
    "name": "ipython",
    "version": 3
   },
   "file_extension": ".py",
   "mimetype": "text/x-python",
   "name": "python",
   "nbconvert_exporter": "python",
   "pygments_lexer": "ipython3",
   "version": "3.7.3"
  },
  "latex_envs": {
   "LaTeX_envs_menu_present": true,
   "autoclose": false,
   "autocomplete": true,
   "bibliofile": "biblio.bib",
   "cite_by": "apalike",
   "current_citInitial": 1,
   "eqLabelWithNumbers": true,
   "eqNumInitial": 1,
   "hotkeys": {
    "equation": "Ctrl-E",
    "itemize": "Ctrl-I"
   },
   "labels_anchors": false,
   "latex_user_defs": false,
   "report_style_numbering": false,
   "user_envs_cfg": false
  },
  "varInspector": {
   "cols": {
    "lenName": 16,
    "lenType": 16,
    "lenVar": 40
   },
   "kernels_config": {
    "python": {
     "delete_cmd_postfix": "",
     "delete_cmd_prefix": "del ",
     "library": "var_list.py",
     "varRefreshCmd": "print(var_dic_list())"
    },
    "r": {
     "delete_cmd_postfix": ") ",
     "delete_cmd_prefix": "rm(",
     "library": "var_list.r",
     "varRefreshCmd": "cat(var_dic_list()) "
    }
   },
   "types_to_exclude": [
    "module",
    "function",
    "builtin_function_or_method",
    "instance",
    "_Feature"
   ],
   "window_display": false
  }
 },
 "nbformat": 4,
 "nbformat_minor": 2
}
