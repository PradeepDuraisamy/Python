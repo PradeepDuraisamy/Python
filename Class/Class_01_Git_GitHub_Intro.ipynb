{
 "cells": [
  {
   "cell_type": "code",
   "execution_count": 5,
   "metadata": {
    "ExecuteTime": {
     "end_time": "2021-02-12T14:35:09.444099Z",
     "start_time": "2021-02-12T14:35:09.434546Z"
    }
   },
   "outputs": [],
   "source": [
    "a = 10"
   ]
  },
  {
   "cell_type": "code",
   "execution_count": 6,
   "metadata": {
    "ExecuteTime": {
     "end_time": "2021-02-12T14:35:09.473935Z",
     "start_time": "2021-02-12T14:35:09.454641Z"
    }
   },
   "outputs": [
    {
     "name": "stdout",
     "output_type": "stream",
     "text": [
      "10\n"
     ]
    }
   ],
   "source": [
    "print(a)"
   ]
  },
  {
   "cell_type": "code",
   "execution_count": 1,
   "metadata": {
    "ExecuteTime": {
     "end_time": "2021-02-12T14:49:14.067131Z",
     "start_time": "2021-02-12T14:49:14.053458Z"
    }
   },
   "outputs": [],
   "source": [
    "num1 = eval(input('Enter 1st number: '))\n",
    "num2 = eval(input('Enter 2nd number: '))\n",
    "print('Sum = ', num1 + num2)\n",
    "print('Difference = ', num1 - num2)\n",
    "print('Product = ', num1 * num2\n",
    "print('Division = ', num1 / num2)"
   ]
  },
  {
   "cell_type": "code",
   "execution_count": null,
   "metadata": {},
   "outputs": [],
   "source": [
    "Modes -\n",
    "    1. Command Mode - esc\n",
    "    2. Edit mode - Enter"
   ]
  },
  {
   "cell_type": "code",
   "execution_count": null,
   "metadata": {},
   "outputs": [],
   "source": [
    "# To do cell related operation we need to get into command mode\n",
    "    1. To add cell below - press \"b\"\n",
    "    2. To add cell above - press \"a\"\n",
    "    3. To delete cell - press \"x\""
   ]
  },
  {
   "cell_type": "code",
   "execution_count": 12,
   "metadata": {
    "ExecuteTime": {
     "end_time": "2021-02-12T14:39:07.099976Z",
     "start_time": "2021-02-12T14:39:07.092879Z"
    }
   },
   "outputs": [],
   "source": [
    "# To Execute cell - shift + Enter or ctrl + Enter\n",
    "# To execute all cells - first select it and run it"
   ]
  },
  {
   "cell_type": "code",
   "execution_count": 2,
   "metadata": {
    "ExecuteTime": {
     "end_time": "2021-02-12T14:49:39.910593Z",
     "start_time": "2021-02-12T14:49:39.902178Z"
    }
   },
   "outputs": [],
   "source": [
    "# while True:\n",
    "#     print('Heloo')"
   ]
  },
  {
   "cell_type": "code",
   "execution_count": 3,
   "metadata": {
    "ExecuteTime": {
     "end_time": "2021-02-12T14:50:08.729981Z",
     "start_time": "2021-02-12T14:50:08.726513Z"
    }
   },
   "outputs": [],
   "source": [
    "# To comment multiple lines\n",
    "#     selct lines and use\n",
    "#         cmd + / - mac\n",
    "#         ctrl + / - windows"
   ]
  },
  {
   "cell_type": "markdown",
   "metadata": {
    "ExecuteTime": {
     "end_time": "2021-02-12T14:53:53.880813Z",
     "start_time": "2021-02-12T14:53:53.869563Z"
    }
   },
   "source": [
    "# Numpy - \n",
    "    - NumPy is the fundamental package for scientific computing in Python. \n",
    "# Pandas -\n",
    "    - Pandas is an open source, BSD-licensed library providing high-performance, easy-to-use data structures and data analysis tools for the Python programming language."
   ]
  },
  {
   "cell_type": "code",
   "execution_count": null,
   "metadata": {},
   "outputs": [],
   "source": [
    "import numpy as np\n",
    "import pandas as pd\n",
    "import matpotlib.pyplot as plt\n",
    "import seaborn as sns"
   ]
  },
  {
   "cell_type": "markdown",
   "metadata": {},
   "source": [
    "# Git and Git Hub"
   ]
  },
  {
   "cell_type": "markdown",
   "metadata": {},
   "source": [
    "#### What is Git?"
   ]
  },
  {
   "cell_type": "markdown",
   "metadata": {},
   "source": [
    "#### What is VCS?"
   ]
  },
  {
   "cell_type": "markdown",
   "metadata": {},
   "source": [
    "1. A mini-file systems.\n",
    "2. A way to keep track of files and changes.\n",
    "3. keep detailed version of files.\n",
    "4. Restore changes or files from the history"
   ]
  },
  {
   "cell_type": "markdown",
   "metadata": {},
   "source": [
    "#### Types of VCS"
   ]
  },
  {
   "cell_type": "code",
   "execution_count": null,
   "metadata": {},
   "outputs": [],
   "source": [
    "1. Centralized\n",
    "2. Decentralized/Distributed"
   ]
  },
  {
   "cell_type": "code",
   "execution_count": null,
   "metadata": {},
   "outputs": [],
   "source": [
    "# Os Commands:-\n",
    "pwd -> Present Working directory\n",
    "ls -> lists all files and folders in currnet directory\n",
    "ls -al -> lists all files and folders in currnet directory including hiiden files\n",
    "cd .. -> Move one directory back\n",
    "cd Directory_Name/Path -> Move to Specified directory availbale in CWD\n",
    "mkdir Directory_Name -> Creates a directory with specified name\n",
    "mv 'src directory name' 'dst directory name' - moves\n",
    "rmdir Dir_name - removes directory\n",
    "\n",
    "\n",
    "# Git Commands:-\n",
    "For set up\n",
    "git config --global user.name User_name_in_quotation_if_space_in_name\n",
    "git config --global user.email User_email_id\n",
    "git config --global core.autocrlf true(Win)/input(Mac)\n",
    "git config --global --list\n",
    "\n",
    "\n",
    "git clone Repo_link -> Clones the repository from cloud to your local system\n",
    "git status - to check the status of the repo\n",
    "git add Dir_name/FileName_with_Extension - Move the file to staging area\n",
    "git commit - m 'msg' - move the file to local repo with the msg\n",
    "git push - push the code to cloud repo (Will ask for credentail while doing first time)\n",
    "gil pull - pulling all the changes from your cloud repo to local repo\n",
    "\n",
    "\n",
    "# File realted operation\n",
    "To open a file from CLI - vim filename.ext\n",
    "to go into insert mode - press 'i'\n",
    "to save and exit - press - 'esc' , :wq\n",
    "\n",
    "\n",
    "\n",
    "\n"
   ]
  },
  {
   "cell_type": "code",
   "execution_count": null,
   "metadata": {},
   "outputs": [],
   "source": []
  },
  {
   "cell_type": "code",
   "execution_count": null,
   "metadata": {},
   "outputs": [],
   "source": []
  },
  {
   "cell_type": "code",
   "execution_count": null,
   "metadata": {},
   "outputs": [],
   "source": []
  },
  {
   "cell_type": "code",
   "execution_count": null,
   "metadata": {},
   "outputs": [],
   "source": []
  },
  {
   "cell_type": "code",
   "execution_count": null,
   "metadata": {},
   "outputs": [],
   "source": []
  },
  {
   "cell_type": "code",
   "execution_count": null,
   "metadata": {},
   "outputs": [],
   "source": []
  },
  {
   "cell_type": "code",
   "execution_count": null,
   "metadata": {},
   "outputs": [],
   "source": []
  },
  {
   "cell_type": "code",
   "execution_count": null,
   "metadata": {},
   "outputs": [],
   "source": []
  }
 ],
 "metadata": {
  "kernelspec": {
   "display_name": "Python 3",
   "language": "python",
   "name": "python3"
  },
  "latex_envs": {
   "LaTeX_envs_menu_present": true,
   "autoclose": false,
   "autocomplete": true,
   "bibliofile": "biblio.bib",
   "cite_by": "apalike",
   "current_citInitial": 1,
   "eqLabelWithNumbers": true,
   "eqNumInitial": 1,
   "hotkeys": {
    "equation": "Ctrl-E",
    "itemize": "Ctrl-I"
   },
   "labels_anchors": false,
   "latex_user_defs": false,
   "report_style_numbering": false,
   "user_envs_cfg": false
  },
  "varInspector": {
   "cols": {
    "lenName": 16,
    "lenType": 16,
    "lenVar": 40
   },
   "kernels_config": {
    "python": {
     "delete_cmd_postfix": "",
     "delete_cmd_prefix": "del ",
     "library": "var_list.py",
     "varRefreshCmd": "print(var_dic_list())"
    },
    "r": {
     "delete_cmd_postfix": ") ",
     "delete_cmd_prefix": "rm(",
     "library": "var_list.r",
     "varRefreshCmd": "cat(var_dic_list()) "
    }
   },
   "types_to_exclude": [
    "module",
    "function",
    "builtin_function_or_method",
    "instance",
    "_Feature"
   ],
   "window_display": false
  }
 },
 "nbformat": 4,
 "nbformat_minor": 2
}
